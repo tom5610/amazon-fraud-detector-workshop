{
 "cells": [
  {
   "cell_type": "markdown",
   "metadata": {},
   "source": [
    "# DIALING IN THE RIGHT OUTCOMES WITH ML + BUSINESS RULES IN AMAZON FRAUD DETECTOR\n",
    "\n",
    "---\n",
    "\n",
    "Globally each year, organizations lose tens of billions of dollars to online fraud. [Amazon Fraud Detector](https://aws.amazon.com/fraud-detector/) is a fully managed service that makes it easy to identify potentially fraudulent online activities such as the creation of fake accounts or online payment fraud. Unlike general purpose machine learning solutions, Fraud Detector is designed specifically to detect fraud. Fraud Detector combines customer data with the latest in machine learning science and more than 20 years of fraud detection experience from Amazon.com and AWS.\n",
    "\n",
    "In the workshop, we will experment how to use Amazon Fraud Detector for new account registration fraudulent detection. We will be using sythetic data set for the model training and evaluation. In this lab, we will explore: \n",
    "* Prepare and map data-sets to Amazon Fraud Detector.\n",
    "* Train Models, Author Rules and Deploy Detectors.\n",
    "  * Setting Fraud Detector Models & Rules\n",
    "  * Call the Detector’s GetEventPrediction method\n",
    "* Interpret model performance metrics. \n",
    "> (***[Fraud Detector Workshop Video](https://d3ezjgxqne0l2q.cloudfront.net/workshops/module-fraud-detector/) also explain the concepts***)"
   ]
  },
  {
   "cell_type": "markdown",
   "metadata": {},
   "source": [
    "## Business Problem\n",
    "\n",
    "Customer is running an online business website. Usually, they are using business rule engine for identify fraudulent new account registration to protect their business, which ends up time by time they have to review potential fraudulent cases and revisit their business rule setting to patch issues. They want to understand how to tackle the problem in a scalable way with machine learning service/technology.\n",
    "\n",
    "## Machine Learning Problem\n",
    "\n",
    "Fraudulent detection is one of the popular domain of machine learning (aka. ML), and it's a typical binary classification problem. There are two areas Customer need to consider while applying machine learning technique:\n",
    "\n",
    "### Challenges\n",
    "* Training data preparation\n",
    "* Once we have a ML model, how to use it to meet business needs. \n",
    "  * Customer may require flexibility to utilize ML model preidction to route new account registration requests. Besides gaining insights about the prediction's result - `Fraud` or `Legit`, Customer should understand the probability of the prediction result and how to design business rules to meet thier objective based on metrics, such as True Postive Rate (aka TPR, Recall, etc.) and False Positive Rate.\n",
    "  \n",
    "### How to Tackle the Challenges?\n",
    "\n",
    "With Amazon Fraud Detector service, customer can leverage Amazon's 20 domain expertise on fraud detection, which enable customer to provide bare minimal necessary training data, and AWS does the heavy-lifting to enrich data. Also, Amazon Fraud Detector allows customer to setup business rules based on insight score of the model prediction, which provides great flexibility and easily scale customer to adopt machine learning technique in fraud detection to protect their business.\n",
    "\n",
    "### How does Amazon Fraud Detector work?\n",
    "\n",
    "The below diagram illustrates how Amazon Fraud Detector works:\n",
    "\n",
    "![How Amazon Fraud Detector works](./img/how_amazon_fraud_detector_works.png)\n",
    "\n",
    "* For detail, please refer to [Fraud Detector Workshop Video](https://d3ezjgxqne0l2q.cloudfront.net/workshops/module-fraud-detector/) and [Amazon Fraud Detector](https://aws.amazon.com/fraud-detector/).\n",
    "* Just want to highlight the components within the orange retangle. In a nutshell, it covers:\n",
    "  * Fully managed fraud detection ML model training and hosting\n",
    "  * Data enrichment, feature engineering, auto algorithm selection and model training/tuning/hosting with 20+  fraud detection experience from Amazon.com and AWS."
   ]
  },
  {
   "cell_type": "markdown",
   "metadata": {},
   "source": [
    "## Workshop Overview\n",
    "\n",
    "In the workshop, we will demo how to use [Amazon Fraud Detector](https://aws.amazon.com/fraud-detector/) to build ML model, setup business rule and observe prediction result with API calls. For training data, we are using a sythetic data set - [new accounts - 100k records](./project_1_newaccounts_100k.csv), and will use partial data set from [new accounts - 5k records](./project_1_newaccounts_5k.csv) to evaluate the result.\n",
    "\n",
    "### How the workshop plays\n",
    "\n",
    "Ideally, please run this Jupyter notebook within a Amazon SageMaker instance, which is spinned up with workshop CloudFormation stack (e.g. you can use [fraud-detector-workshop.yaml](./fraud-detector-workshop.yaml) to create a CFN stack in your own AWS account.).\n",
    "\n",
    "The notebook creates an Amazon S3 bucket for storing training data which your model training refers to, and use boto3 APIs to create below for demo purpose:\n",
    "* [Resources](https://docs.aws.amazon.com/frauddetector/latest/ug/create-resources.html)- Models, rules, and detectors use resources to evaluate events for fraud risk. \n",
    "  * [Event](https://docs.aws.amazon.com/frauddetector/latest/ug/create-event-type.html) - With Amazon Fraud Detector, you generate fraud predictions for events. An event type defines the structure for an individual event sent to Amazon Fraud Detector.\n",
    "  * [Entity](https://docs.aws.amazon.com/frauddetector/latest/ug/create-an-entity-type.html) - An entity represents who is performing the event.\n",
    "  * [Variable](https://docs.aws.amazon.com/frauddetector/latest/ug/create-a-variable.html) - Variables represent data elements that you want to use in a fraud prediction, such as data from the event that is being evaluated or risk score outputs from Amazon Fraud Detector models or Amazon SageMaker models.\n",
    "  * [Label](https://docs.aws.amazon.com/frauddetector/latest/ug/create-a-label.html) - A label classifies an event as fraudulent or legitimate. \n",
    "  * [Outcome](https://docs.aws.amazon.com/frauddetector/latest/ug/create-an-outcome.html) - An outcome is the result of a fraud prediction. Create an outcome for each possible fraud prediction result. For example, you may want outcomes to represent risk levels (high_risk, medium_risk, and low_risk) or actions (approve, review).\n",
    "* [Model](https://docs.aws.amazon.com/frauddetector/latest/ug/create-model.html) - A model is like an container for model versions. A model version is the term Amazon Fraud Detector uses for a trained fraud detection machine learning model. \n",
    "* [Detector](https://docs.aws.amazon.com/frauddetector/latest/ug/create-a-detector.html) - A detector contains the detection logic, such as the models and rules, for a particular event that you want to evaluate for fraud. Each detector can evaluate one event type.\n",
    "* [Getting Fraud Prediction](https://docs.aws.amazon.com/frauddetector/latest/ug/getting-fraud-predictions.html) - Use Boto3 API to get fraud predictions.\n",
    "  * Also, demo reset business rule and plot prediction outcomes.\n",
    "  "
   ]
  },
  {
   "cell_type": "code",
   "execution_count": 1,
   "metadata": {},
   "outputs": [],
   "source": [
    "from IPython.display import display, HTML, Javascript, clear_output\n",
    "\n",
    "import numpy as np\n",
    "np.seterr(divide='ignore', invalid='ignore')\n",
    "\n",
    "import pandas as pd\n",
    "pd.set_option('display.max_rows', 500)\n",
    "pd.set_option('display.max_columns', 500)\n",
    "pd.set_option('display.width', 1000)\n",
    "\n",
    "import boto3, time, uuid\n",
    "from datetime import datetime\n",
    "\n",
    "# dask for parallelism\n",
    "import dask \n",
    "\n",
    "# for plotting\n",
    "import matplotlib.pyplot as plt\n",
    "%matplotlib inline"
   ]
  },
  {
   "cell_type": "markdown",
   "metadata": {},
   "source": [
    "Please note that we are using SageMaker notebook instance role for `DATA_ACCESS_ROLE_ARN`, which allow Amazon Fraud Detector service to retrieve data from Amazon S3 service."
   ]
  },
  {
   "cell_type": "code",
   "execution_count": 2,
   "metadata": {},
   "outputs": [],
   "source": [
    "from sagemaker import get_execution_role\n",
    "DATA_ACCESS_ROLE_ARN = get_execution_role()"
   ]
  },
  {
   "cell_type": "markdown",
   "metadata": {},
   "source": [
    "#### Upload Training Data to Amazon S3 Bucket"
   ]
  },
  {
   "cell_type": "code",
   "execution_count": 3,
   "metadata": {},
   "outputs": [],
   "source": [
    "session = boto3.Session()\n",
    "region = session.region_name\n",
    "account_id = session.client('sts').get_caller_identity().get('Account')\n",
    "bucket_name = f\"{account_id}-fraud-detector-lab-{region}\"\n",
    "s3 = boto3.client('s3')\n",
    "try:\n",
    "    if (\"us-east-1\" == region):\n",
    "        s3.create_bucket(Bucket=bucket_name)\n",
    "    else:\n",
    "        s3.create_bucket(Bucket=bucket_name, CreateBucketConfiguration={\n",
    "            'LocationConstraint': region})\n",
    "except:\n",
    "    pass\n"
   ]
  },
  {
   "cell_type": "code",
   "execution_count": 4,
   "metadata": {},
   "outputs": [],
   "source": [
    "# Upload data file into S3 bucket\n",
    "s3.upload_file('./project_1_newaccounts_100k.csv', bucket_name, 'project_1_newaccounts_100k.csv')"
   ]
  },
  {
   "cell_type": "code",
   "execution_count": 5,
   "metadata": {},
   "outputs": [
    {
     "data": {
      "text/plain": [
       "'s3://593380422482-fraud-detector-lab-ap-southeast-2/project_1_newaccounts_100k.csv'"
      ]
     },
     "execution_count": 5,
     "metadata": {},
     "output_type": "execute_result"
    }
   ],
   "source": [
    "train_data_uri = f\"s3://{bucket_name}/project_1_newaccounts_100k.csv\"\n",
    "train_data_uri"
   ]
  },
  {
   "cell_type": "markdown",
   "metadata": {},
   "source": [
    "#### Explore Data\n",
    "\n",
    "Have a quick look at the new account data file:\n",
    "* Field 'EVENT_TIMESTAMP' & 'EVENT_LABEL' are two standard and necessary fields for model training.\n",
    "* customer name and customer address won't be used in model training"
   ]
  },
  {
   "cell_type": "code",
   "execution_count": 6,
   "metadata": {},
   "outputs": [
    {
     "name": "stdout",
     "output_type": "stream",
     "text": [
      "<class 'pandas.core.frame.DataFrame'>\n",
      "RangeIndex: 100000 entries, 0 to 99999\n",
      "Data columns (total 11 columns):\n",
      " #   Column            Non-Null Count   Dtype  \n",
      "---  ------            --------------   -----  \n",
      " 0   ip_address        99993 non-null   object \n",
      " 1   email_address     99991 non-null   object \n",
      " 2   user_agent        99992 non-null   object \n",
      " 3   customer_city     99986 non-null   object \n",
      " 4   customer_state    99990 non-null   object \n",
      " 5   customer_postal   99993 non-null   float64\n",
      " 6   EVENT_TIMESTAMP   100000 non-null  object \n",
      " 7   customer_name     99993 non-null   object \n",
      " 8   customer_address  99987 non-null   object \n",
      " 9   phone_number      99985 non-null   object \n",
      " 10  EVENT_LABEL       100000 non-null  int64  \n",
      "dtypes: float64(1), int64(1), object(9)\n",
      "memory usage: 8.4+ MB\n"
     ]
    }
   ],
   "source": [
    "df = pd.read_csv('./project_1_newaccounts_100k.csv')\n",
    "df.info()"
   ]
  },
  {
   "cell_type": "markdown",
   "metadata": {},
   "source": [
    "We will display the count of fraud & legit labeled records, also a histogram plotting."
   ]
  },
  {
   "cell_type": "code",
   "execution_count": 7,
   "metadata": {},
   "outputs": [
    {
     "name": "stdout",
     "output_type": "stream",
     "text": [
      "EVENT_LABEL\n",
      "0    94928\n",
      "1     5072\n",
      "dtype: int64\n"
     ]
    },
    {
     "data": {
      "text/plain": [
       "<matplotlib.axes._subplots.AxesSubplot at 0x7fc0ca3434a8>"
      ]
     },
     "execution_count": 7,
     "metadata": {},
     "output_type": "execute_result"
    },
    {
     "data": {
      "image/png": "[encoded data removed]",
      "text/plain": [
       "<Figure size 432x288 with 1 Axes>"
      ]
     },
     "metadata": {
      "needs_background": "light"
     },
     "output_type": "display_data"
    }
   ],
   "source": [
    "print(df.groupby('EVENT_LABEL').size())\n",
    "df['EVENT_LABEL'].plot.hist(by = 'EVENT_LABEL')"
   ]
  },
  {
   "cell_type": "markdown",
   "metadata": {},
   "source": [
    "### Create Fraud Detector Resources (Variable, label, event and event type)"
   ]
  },
  {
   "cell_type": "code",
   "execution_count": 8,
   "metadata": {},
   "outputs": [],
   "source": [
    "# -- fraud detector client --\n",
    "fraud_detector = boto3.client('frauddetector')"
   ]
  },
  {
   "cell_type": "code",
   "execution_count": 17,
   "metadata": {},
   "outputs": [],
   "source": [
    "# functions to display advice\n",
    "SUBJECT_LABEL = 'Label'\n",
    "SUBJECT_VARIABLE = 'Variable'\n",
    "SUBJECT_EVENT_TYPE = 'Event Type'\n",
    "SUBJECT_ENTITY = 'Entity Type'\n",
    "SUBJECT_OUTCOME = 'Outcome'\n",
    "SUBJECT_MODEL = 'Model'\n",
    "SUBJECT_DETECTOR = 'Detector'\n",
    "\n",
    "actions = {\n",
    "    SUBJECT_LABEL: \"getLabels\",\n",
    "    SUBJECT_VARIABLE: \"getVariables\",\n",
    "    SUBJECT_EVENT_TYPE: \"getEventTypes\",\n",
    "    SUBJECT_ENTITY: \"entityTypes\",\n",
    "    SUBJECT_OUTCOME: \"getOutcomes\",\n",
    "    SUBJECT_MODEL: \"getModels\",\n",
    "    SUBJECT_DETECTOR: \"getDetectors\"    \n",
    "}\n",
    "\n",
    "def display_advice(subject):\n",
    "    display(HTML(f'''\n",
    "            <br>To view {subject} in the console click \n",
    "            <a target=\"_blank\" href=\"https://{region}.console.aws.amazon.com/frauddetector/home?region={region}#{actions[subject]}\">{subject}</a> \n",
    "        '''))\n"
   ]
  },
  {
   "cell_type": "markdown",
   "metadata": {},
   "source": [
    "#### Labels Creation\n",
    "A label classifies an event as fraudulent or legitimate. Once you have created a label, add the label to the event type by calling the PutEventType API to associate label to event type."
   ]
  },
  {
   "cell_type": "code",
   "execution_count": 18,
   "metadata": {},
   "outputs": [
    {
     "data": {
      "text/html": [
       "\n",
       "            <br>To view Label in the console click \n",
       "            <a target=\"_blank\" href=\"https://ap-southeast-2.console.aws.amazon.com/frauddetector/home?region=ap-southeast-2#getLabels\">Label</a> \n",
       "        "
      ],
      "text/plain": [
       "<IPython.core.display.HTML object>"
      ]
     },
     "metadata": {},
     "output_type": "display_data"
    }
   ],
   "source": [
    "# collect existing labels\n",
    "response = fraud_detector.get_labels()\n",
    "existing_label_names = [label['name'] for label in response['labels']]\n",
    "\n",
    "# setup fraudulent and legitimate labels; must match with the actual label value.\n",
    "LABEL_FRAUD = '1'\n",
    "LABEL_LEGIT = '0'\n",
    "\n",
    "if LABEL_FRAUD not in existing_label_names:\n",
    "    fraud_detector.put_label(\n",
    "        name = LABEL_FRAUD,\n",
    "        description = 'label for fraud events'\n",
    "    )\n",
    "\n",
    "if LABEL_LEGIT not in existing_label_names:\n",
    "    fraud_detector.put_label(\n",
    "        name = LABEL_LEGIT,\n",
    "        description = 'label for legit events'\n",
    "    )\n",
    "\n",
    "display_advice(SUBJECT_LABEL)"
   ]
  },
  {
   "cell_type": "markdown",
   "metadata": {},
   "source": [
    "#### Variables creation\n",
    "Variables represent data elements that you want to use in a fraud prediction, such as data from the event that is being evaluated or risk score outputs from Amazon Fraud Detector models or Amazon SageMaker models.\n",
    "\n"
   ]
  },
  {
   "cell_type": "code",
   "execution_count": 19,
   "metadata": {},
   "outputs": [
    {
     "data": {
      "text/html": [
       "\n",
       "            <br>To view Variable in the console click \n",
       "            <a target=\"_blank\" href=\"https://ap-southeast-2.console.aws.amazon.com/frauddetector/home?region=ap-southeast-2#getVariables\">Variable</a> \n",
       "        "
      ],
      "text/plain": [
       "<IPython.core.display.HTML object>"
      ]
     },
     "metadata": {},
     "output_type": "display_data"
    }
   ],
   "source": [
    "# collect variables\n",
    "response = fraud_detector.get_variables()\n",
    "existing_variable_names = [variable['name'] for variable in response['variables']]\n",
    "\n",
    "\n",
    "# replace with your preferred if needed\n",
    "VARIABLE_IP_ADDRESS = 'ip_address'\n",
    "VARIABLE_EMAIL_ADDRESS = 'email_address'\n",
    "VARIABLE_PHONE_NUMBER = 'phone_number'\n",
    "VARIABLE_USER_AGENT = 'user_agent'\n",
    "VARIABLE_CUSTOMER_STATE = 'customer_state'\n",
    "VARIABLE_CUSTOMER_POSTAL = 'customer_postal'\n",
    "VARIABLE_CUSTOMER_ADDRESS = 'customer_address'\n",
    "VARIABLE_CUSTOMER_CITY = 'customer_city'\n",
    "\n",
    "event_variables = [\n",
    "    VARIABLE_IP_ADDRESS,\n",
    "    VARIABLE_EMAIL_ADDRESS,\n",
    "    VARIABLE_PHONE_NUMBER,\n",
    "    VARIABLE_USER_AGENT,\n",
    "    VARIABLE_CUSTOMER_STATE,\n",
    "    VARIABLE_CUSTOMER_POSTAL,\n",
    "    VARIABLE_CUSTOMER_ADDRESS,\n",
    "    VARIABLE_CUSTOMER_CITY\n",
    "]\n",
    "\n",
    "#Create variable ip_address\n",
    "if VARIABLE_IP_ADDRESS not in existing_variable_names:\n",
    "    fraud_detector.create_variable(\n",
    "        name = VARIABLE_IP_ADDRESS,\n",
    "        variableType = 'IP_ADDRESS',\n",
    "        dataType = 'STRING',\n",
    "        dataSource = 'EVENT',\n",
    "        defaultValue = '<unknown>'\n",
    "    )\n",
    "    \n",
    "#Create variable email_address\n",
    "if VARIABLE_EMAIL_ADDRESS not in existing_variable_names:\n",
    "    fraud_detector.create_variable(\n",
    "        name = VARIABLE_EMAIL_ADDRESS,\n",
    "        variableType = 'EMAIL_ADDRESS',\n",
    "        dataType = 'STRING',\n",
    "        dataSource = 'EVENT',\n",
    "        defaultValue = '<unknown>'\n",
    "    )\n",
    "    \n",
    "#Create variable phone_number\n",
    "if VARIABLE_PHONE_NUMBER not in existing_variable_names:\n",
    "    fraud_detector.create_variable(\n",
    "        name = VARIABLE_PHONE_NUMBER,\n",
    "        variableType = 'PHONE_NUMBER',\n",
    "        dataType = 'STRING',\n",
    "        dataSource = 'EVENT',\n",
    "        defaultValue = '<unknown>'\n",
    "    )    \n",
    "    \n",
    "#Create variable user_agent\n",
    "if VARIABLE_USER_AGENT not in existing_variable_names:\n",
    "    fraud_detector.create_variable(\n",
    "        name = VARIABLE_USER_AGENT,\n",
    "        variableType = 'USERAGENT',\n",
    "        dataType = 'STRING',\n",
    "        dataSource = 'EVENT',\n",
    "        defaultValue = '<unknown>'\n",
    "    )\n",
    "    \n",
    "#Create variable customer_state\n",
    "if VARIABLE_CUSTOMER_STATE not in existing_variable_names:\n",
    "    fraud_detector.create_variable(\n",
    "        name = VARIABLE_CUSTOMER_STATE,\n",
    "        variableType = 'BILLING_STATE',\n",
    "        dataType = 'STRING',\n",
    "        dataSource = 'EVENT',\n",
    "        defaultValue = '<unknown>'\n",
    "    )    \n",
    "    \n",
    "#Create variable customer_postal\n",
    "if VARIABLE_CUSTOMER_POSTAL not in existing_variable_names:\n",
    "    fraud_detector.create_variable(\n",
    "        name = VARIABLE_CUSTOMER_POSTAL,\n",
    "        variableType = 'BILLING_ZIP',\n",
    "        dataType = 'STRING',\n",
    "        dataSource = 'EVENT',\n",
    "        defaultValue = '<unknown>'\n",
    "    )    \n",
    "    \n",
    "#Create variable customer_address\n",
    "if VARIABLE_CUSTOMER_ADDRESS not in existing_variable_names:\n",
    "    fraud_detector.create_variable(\n",
    "        name = VARIABLE_CUSTOMER_ADDRESS,\n",
    "        variableType = 'BILLING_ADDRESS_L1',\n",
    "        dataType = 'STRING',\n",
    "        dataSource = 'EVENT',\n",
    "        defaultValue = '<unknown>'\n",
    "    )   \n",
    "    \n",
    "#Create variable customer_city\n",
    "if VARIABLE_CUSTOMER_CITY not in existing_variable_names:\n",
    "    fraud_detector.create_variable(\n",
    "        name = VARIABLE_CUSTOMER_CITY,\n",
    "        variableType = 'BILLING_CITY',\n",
    "        dataType = 'STRING',\n",
    "        dataSource = 'EVENT',\n",
    "        defaultValue = '<unknown>'\n",
    "    )    \n",
    "    \n",
    "display_advice(SUBJECT_VARIABLE)"
   ]
  },
  {
   "cell_type": "markdown",
   "metadata": {},
   "source": [
    "#### Entity type\n",
    "\n",
    "An entity represents who is performing the event. As part of a fraud prediction, you can pass the entity ID to indicate the specific entity who performed the event.\n",
    "\n",
    "An entity type classifies the entity. Example classifications include customer, merchant, or account."
   ]
  },
  {
   "cell_type": "code",
   "execution_count": 20,
   "metadata": {},
   "outputs": [
    {
     "data": {
      "text/html": [
       "\n",
       "            <br>To view Entity Type in the console click \n",
       "            <a target=\"_blank\" href=\"https://ap-southeast-2.console.aws.amazon.com/frauddetector/home?region=ap-southeast-2#entityTypes\">Entity Type</a> \n",
       "        "
      ],
      "text/plain": [
       "<IPython.core.display.HTML object>"
      ]
     },
     "metadata": {},
     "output_type": "display_data"
    }
   ],
   "source": [
    "# collect entity types\n",
    "response = fraud_detector.get_entity_types()\n",
    "existing_entity_type_names = [entity_type['name'] for entity_type in response['entityTypes']]\n",
    "\n",
    "# replace with your preferred if needed\n",
    "ENTITY_TYPE_NAME = \"account\"\n",
    "\n",
    "if ENTITY_TYPE_NAME not in existing_entity_type_names:\n",
    "    fraud_detector.put_entity_type(\n",
    "        name = ENTITY_TYPE_NAME,\n",
    "        description = 'Sample account entity type'\n",
    "    )\n",
    "\n",
    "display_advice(SUBJECT_ENTITY)"
   ]
  },
  {
   "cell_type": "markdown",
   "metadata": {},
   "source": [
    "#### Event Type\n",
    "\n",
    "With Amazon Fraud Detector, you generate fraud predictions for events. An event type defines the structure for an individual event sent to Amazon Fraud Detector. Once defined, you can build models and detectors that evaluate the risk for specific event types."
   ]
  },
  {
   "cell_type": "code",
   "execution_count": 22,
   "metadata": {},
   "outputs": [
    {
     "data": {
      "text/html": [
       "\n",
       "            <br>To view Event Type in the console click \n",
       "            <a target=\"_blank\" href=\"https://ap-southeast-2.console.aws.amazon.com/frauddetector/home?region=ap-southeast-2#getEventTypes\">Event Type</a> \n",
       "        "
      ],
      "text/plain": [
       "<IPython.core.display.HTML object>"
      ]
     },
     "metadata": {},
     "output_type": "display_data"
    }
   ],
   "source": [
    "# collect event types\n",
    "response = fraud_detector.get_event_types()\n",
    "existing_event_type_names = [event_type['name'] for event_type in response['eventTypes']]\n",
    "\n",
    "# replace with your preferred if needed\n",
    "EVENT_TYPE_NAME = \"my_new_account_registration\"\n",
    "\n",
    "if EVENT_TYPE_NAME not in existing_event_type_names:\n",
    "    fraud_detector.put_event_type (\n",
    "        name = EVENT_TYPE_NAME,\n",
    "        description='Sample event type',\n",
    "        eventVariables = event_variables,\n",
    "        labels = [\n",
    "            LABEL_LEGIT, \n",
    "            LABEL_FRAUD\n",
    "        ],\n",
    "        entityTypes = [ \n",
    "            ENTITY_TYPE_NAME \n",
    "        ]\n",
    "    )\n",
    "\n",
    "display_advice(SUBJECT_EVENT_TYPE)"
   ]
  },
  {
   "cell_type": "markdown",
   "metadata": {},
   "source": [
    "#### Model\n",
    "A model version is the term Amazon Fraud Detector uses for a trained fraud detection machine learning model. All steps in the model training process are fully automated including data validation, data transformation, feature engineering, algorithm selection, training, and model optimization. Creating a model requires selecting the model type and specifying the model version configuration. The model type specifies the algorithms and transformations used to build the model."
   ]
  },
  {
   "cell_type": "code",
   "execution_count": 23,
   "metadata": {},
   "outputs": [
    {
     "data": {
      "text/html": [
       "\n",
       "            <br>To view Model in the console click \n",
       "            <a target=\"_blank\" href=\"https://ap-southeast-2.console.aws.amazon.com/frauddetector/home?region=ap-southeast-2#getModels\">Model</a> \n",
       "        "
      ],
      "text/plain": [
       "<IPython.core.display.HTML object>"
      ]
     },
     "metadata": {},
     "output_type": "display_data"
    }
   ],
   "source": [
    "# Collect model ids\n",
    "response = fraud_detector.get_models()\n",
    "existing_model_ids = [ model['modelId'] for model in response['models'] ]\n",
    "\n",
    "# Create model (which is a container for model version), replace with your preferred if needed\n",
    "MODEL_ID = \"sample_project_x\"\n",
    "\n",
    "if MODEL_ID not in existing_model_ids:\n",
    "    fraud_detector.create_model (\n",
    "        modelId = MODEL_ID,\n",
    "        eventTypeName = EVENT_TYPE_NAME,\n",
    "        modelType = 'ONLINE_FRAUD_INSIGHTS'\n",
    "    )\n",
    "    \n",
    "display_advice(SUBJECT_MODEL)"
   ]
  },
  {
   "cell_type": "code",
   "execution_count": null,
   "metadata": {},
   "outputs": [],
   "source": [
    "def get_model_version_by_status(model_id, target_status):\n",
    "    response = fraud_detector.describe_model_versions(\n",
    "        modelId = model_id,\n",
    "        modelType='ONLINE_FRAUD_INSIGHTS'\n",
    "    )\n",
    "    active_model_version = next( (model_version for model_version in response['modelVersionDetails'] if target_status == model_version['status']), None) \n",
    "    return active_model_version\n",
    "\n",
    "def get_active_model_version(model_id):\n",
    "    return get_model_version_by_status(model_id, 'ACTIVE')\n",
    "\n",
    "def get_training_complete_model_version(model_id):\n",
    "    return get_model_version_by_status(model_id, 'TRAINING_COMPLETE')\n",
    "\n",
    "def check_model_version_status(target_status, model_id, model_version_number):\n",
    "    print(f\"to check model version status till [{target_status}]\")\n",
    "    while True:\n",
    "        response = fraud_detector.get_model_version(\n",
    "            modelId = model_id,\n",
    "            modelType = 'ONLINE_FRAUD_INSIGHTS',\n",
    "            modelVersionNumber = model_version_number\n",
    "        )\n",
    "        print(f\"Model version {model_id}:{model_version_number} status check: {response['status']}\")\n",
    "        if target_status == response['status']:\n",
    "            break\n",
    "        else:\n",
    "            time.sleep(60)    "
   ]
  },
  {
   "cell_type": "code",
   "execution_count": null,
   "metadata": {},
   "outputs": [],
   "source": [
    "%%time\n",
    "\n",
    "# We try to avoid creating multiple model versions for the lab when active/complete_training model version found.\n",
    "# However, you are experimenting a new data set, please modify below logic to create a new model version.\n",
    "\n",
    "\n",
    "# If there is no model version, train one and update it to be active: \n",
    "#   For new model version creation (model training), it takes approx. 50-60mins with the existing sample data - the 100k one.\n",
    "# If there is a training_complete model version, activate it and use it;\n",
    "# If there is an active model version, use it directly.\n",
    "\n",
    "model_version_number = None\n",
    "active_model_version = get_active_model_version(MODEL_ID)\n",
    "if active_model_version: # Activate model version found?\n",
    "    model_version_number = active_model_version['modelVersionNumber']\n",
    "    print(f\"Using existing ACTIVE model version and the version number: {model_version_number}\")\n",
    "else:\n",
    "    training_complete_model_version = get_training_complete_model_version(MODEL_ID)\n",
    "    if training_complete_model_version: # training_complete model version found?\n",
    "        model_version_number = training_complete_model_version['modelVersionNumber']\n",
    "        print(f\"Reuse existing TRAINING_COMPLETE model version and will activate it. The model version number: {model_version_number}\")\n",
    "    else: # to create new model version\n",
    "        response = fraud_detector.create_model_version (\n",
    "            modelId = MODEL_ID,\n",
    "            modelType = 'ONLINE_FRAUD_INSIGHTS',\n",
    "            trainingDataSource = 'EXTERNAL_EVENTS',\n",
    "            trainingDataSchema = {\n",
    "                'modelVariables' : [\n",
    "                    VARIABLE_IP_ADDRESS,\n",
    "                    VARIABLE_EMAIL_ADDRESS,\n",
    "                    VARIABLE_PHONE_NUMBER,\n",
    "                    VARIABLE_USER_AGENT,\n",
    "                    VARIABLE_CUSTOMER_STATE,\n",
    "                    VARIABLE_CUSTOMER_POSTAL,\n",
    "                    VARIABLE_CUSTOMER_CITY\n",
    "                ],\n",
    "                'labelSchema' : {\n",
    "                    'labelMapper' : {\n",
    "                        'FRAUD' : [ LABEL_FRAUD ],\n",
    "                        'LEGIT' : [ LABEL_LEGIT ]\n",
    "                    }\n",
    "                }\n",
    "            }, \n",
    "            externalEventsDetail = {\n",
    "                'dataLocation' : train_data_uri,\n",
    "                'dataAccessRoleArn' : DATA_ACCESS_ROLE_ARN\n",
    "            }\n",
    "        )\n",
    "        model_version_number = response['modelVersionNumber']\n",
    "        print(f\"Create a new model version and the version number: {model_version_number}\")\n",
    "\n",
    "        # wait until the training finish - may takes 50-60mins\n",
    "        check_model_version_status('TRAINING_COMPLETE', MODEL_ID, model_version_number)  \n",
    "        \n",
    "    # activate/deploy model version\n",
    "    fraud_detector.update_model_version_status (\n",
    "        modelId = MODEL_ID,\n",
    "        modelType = 'ONLINE_FRAUD_INSIGHTS',\n",
    "        modelVersionNumber = model_version_number,\n",
    "        status = 'ACTIVE'\n",
    "    )\n",
    "\n",
    "    # wait until the model deployed - may takes ~ 10mins\n",
    "    check_model_version_status('ACTIVE', MODEL_ID, model_version_number)  \n"
   ]
  },
  {
   "cell_type": "markdown",
   "metadata": {},
   "source": [
    "#### Explore Model Performance\n",
    "\n",
    "Once your model training is completed, you can open model version to view model performance.\n",
    "\n",
    "The chart view allow you to explore related insight score mapping with confusion matrix metrics, such as True Postive Rate and Falst Positive Rate.\n",
    "\n",
    "![model performance chart view](./img/model_performance_chart_view.png)\n",
    "\n",
    "The table view list the mapping across metrics and insight score.\n",
    "\n",
    "![model performance table view](./img/model_performance_table_view.png)\n",
    "\n",
    "Both views make it easy for your business to understand: \n",
    "* With an certain acceptable False Positive Rate, how you may want to setup business rules to route event prediction result for online fraud insights. "
   ]
  },
  {
   "cell_type": "markdown",
   "metadata": {},
   "source": [
    "#### Detector \n",
    "A detector contains the detection logic, such as the models and rules, for a particular event that you want to evaluate for fraud. Each detector can evaluate one event type.\n",
    "\n",
    "A detector can have multiple versions, with each version having a status of DRAFT, ACTIVE, or INACTIVE. Only one detector version can be in ACTIVE status at a time."
   ]
  },
  {
   "cell_type": "code",
   "execution_count": 24,
   "metadata": {},
   "outputs": [
    {
     "data": {
      "text/html": [
       "\n",
       "            <br>To view Detector in the console click \n",
       "            <a target=\"_blank\" href=\"https://ap-southeast-2.console.aws.amazon.com/frauddetector/home?region=ap-southeast-2#getDetectors\">Detector</a> \n",
       "        "
      ],
      "text/plain": [
       "<IPython.core.display.HTML object>"
      ]
     },
     "metadata": {},
     "output_type": "display_data"
    }
   ],
   "source": [
    "# Collect existing detector ids\n",
    "response = fraud_detector.get_detectors()\n",
    "existing_detector_ids = [detector['detectorId'] for detector in response['detectors']]\n",
    "\n",
    "# replace with your preferred if needed\n",
    "DETECTOR_ID = \"new_account_fraud_detector\"\n",
    "\n",
    "# Detector is a container for detector versions.\n",
    "if DETECTOR_ID not in existing_detector_ids:\n",
    "    fraud_detector.put_detector (\n",
    "        detectorId = DETECTOR_ID,\n",
    "        eventTypeName = EVENT_TYPE_NAME\n",
    "    )\n",
    "    \n",
    "display_advice(SUBJECT_DETECTOR)"
   ]
  },
  {
   "cell_type": "markdown",
   "metadata": {},
   "source": [
    "##### Create Outcome\n",
    "An outcome is the result of a fraud prediction. Create an outcome for each possible fraud prediction result. For example, you may want outcomes to represent risk levels (high_risk, medium_risk, and low_risk) or actions (approve, review). Once created, you can add one or more outcomes to a rule. As part of the GetEventPrediction response, Amazon Fraud Detector will return the defined outcomes for any matched rule."
   ]
  },
  {
   "cell_type": "code",
   "execution_count": 25,
   "metadata": {},
   "outputs": [
    {
     "data": {
      "text/html": [
       "\n",
       "            <br>To view Outcome in the console click \n",
       "            <a target=\"_blank\" href=\"https://ap-southeast-2.console.aws.amazon.com/frauddetector/home?region=ap-southeast-2#getOutcomes\">Outcome</a> \n",
       "        "
      ],
      "text/plain": [
       "<IPython.core.display.HTML object>"
      ]
     },
     "metadata": {},
     "output_type": "display_data"
    }
   ],
   "source": [
    "# Collect existing outcomes\n",
    "response = fraud_detector.get_outcomes()\n",
    "existing_outcome_names = [ outcome['name'] for outcome in response['outcomes'] ]\n",
    "\n",
    "\n",
    "OUTCOME_BLOCK = 'block'\n",
    "OUTCOME_REVIEW = 'review'\n",
    "OUTCOME_FRICTION = 'friction'\n",
    "OUTCOME_APPROVE = 'approve'\n",
    "\n",
    "if OUTCOME_BLOCK not in existing_outcome_names:\n",
    "    fraud_detector.put_outcome(\n",
    "        name = OUTCOME_BLOCK,\n",
    "        description = 'this outcome blocks the event'\n",
    "    )\n",
    "\n",
    "if OUTCOME_REVIEW not in existing_outcome_names:\n",
    "    fraud_detector.put_outcome(\n",
    "        name = OUTCOME_REVIEW,\n",
    "        description = 'this outcome sidelines event for review'\n",
    "    )\n",
    "\n",
    "if OUTCOME_FRICTION not in existing_outcome_names:\n",
    "    fraud_detector.put_outcome(\n",
    "        name = OUTCOME_FRICTION,\n",
    "        description = 'this outcome frictions the event'\n",
    "    )\n",
    "\n",
    "if OUTCOME_APPROVE not in existing_outcome_names:\n",
    "    fraud_detector.put_outcome(\n",
    "        name = OUTCOME_APPROVE,\n",
    "        description = 'this outcome approves the event'\n",
    "    )\n",
    "    \n",
    "display_advice(SUBJECT_OUTCOME)"
   ]
  },
  {
   "cell_type": "markdown",
   "metadata": {},
   "source": [
    "##### Create Rules\n",
    "A rule is a condition that tells Amazon Fraud Detector how to interpret variable values during a fraud prediction. A rule consists of one or more variables, a logic expression, and one or more outcomes. A detector must have at least one associated rule. Rules in a detector are evaluated as part of a fraud prediction."
   ]
  },
  {
   "cell_type": "code",
   "execution_count": null,
   "metadata": {},
   "outputs": [],
   "source": [
    "class Rule:\n",
    "    \n",
    "    def __init__(self, id, detector_id, expression, outcomes):\n",
    "        self.id = id\n",
    "        self.detector_id = detector_id\n",
    "        self.expression = expression\n",
    "        self.outcomes = outcomes\n",
    "        self.rule_version = None\n",
    "    \n",
    "    def may_create_rule_and_collect_rule_version(self, fraud_detector):\n",
    "        \"\"\"\n",
    "        Assume the rule comparison is based on rule id and related expression only. \n",
    "        \"\"\"\n",
    "        response = fraud_detector.get_rules(\n",
    "            ruleId = self.id,\n",
    "            detectorId = self.detector_id\n",
    "        )\n",
    "        if not response['ruleDetails']:\n",
    "            result = fraud_detector.create_rule(\n",
    "                ruleId = self.id,\n",
    "                detectorId = self.detector_id,\n",
    "                expression = self.expression,\n",
    "                language = 'DETECTORPL',\n",
    "                outcomes = self.outcomes\n",
    "            )\n",
    "            self.rule_version = result['rule']['ruleVersion']\n",
    "        else:\n",
    "            rules = response['ruleDetails']\n",
    "            latest_rule = max(rules, key = lambda k: int( k['ruleVersion'] ))\n",
    "            if latest_rule['expression'] != self.expression: \n",
    "                result = fraud_detector.update_rule_version(\n",
    "                    rule={\n",
    "                        'detectorId': self.detector_id,\n",
    "                        'ruleId': self.id,\n",
    "                        'ruleVersion': latest_rule['ruleVersion']\n",
    "                    },\n",
    "                    expression = self.expression,\n",
    "                    language = 'DETECTORPL',\n",
    "                    outcomes = self.outcomes\n",
    "                )\n",
    "                self.rule_version = result['rule']['ruleVersion']\n",
    "            else:\n",
    "                self.rule_version = latest_rule['ruleVersion']\n",
    "\n",
    "    def to_detector_version_output(self):\n",
    "        \"\"\"\n",
    "        An rule output for detector version creation.\n",
    "        \"\"\"\n",
    "        return {\n",
    "            'detectorId' : self.detector_id,\n",
    "            'ruleId' : self.id,\n",
    "            'ruleVersion' : self.rule_version\n",
    "        }"
   ]
  },
  {
   "cell_type": "code",
   "execution_count": null,
   "metadata": {},
   "outputs": [],
   "source": [
    "RULE_ID_BLOCK = 'rule_block'\n",
    "RULE_ID_REVIEW = 'rule_review'\n",
    "RULE_ID_FRICTION = 'rule_friction'\n",
    "RULE_ID_APPROVE = 'rule_approve'\n",
    "\n",
    "# model insightscore expression is base on \"{model_name}_insightscore\"\n",
    "rule_block = Rule(RULE_ID_BLOCK, DETECTOR_ID, f\"${MODEL_ID}_insightscore >= 950\", [ OUTCOME_BLOCK ] )\n",
    "rule_review = Rule(RULE_ID_REVIEW, DETECTOR_ID, f\"${MODEL_ID}_insightscore >= 855 and ${MODEL_ID}_insightscore < 950\", [ OUTCOME_REVIEW ] )\n",
    "rule_friction = Rule(RULE_ID_FRICTION, DETECTOR_ID, f\"${MODEL_ID}_insightscore >= 600 and ${MODEL_ID}_insightscore < 855\", [ OUTCOME_FRICTION ] )\n",
    "rule_approve = Rule(RULE_ID_APPROVE, DETECTOR_ID, f\"${MODEL_ID}_insightscore < 600\", [ OUTCOME_APPROVE ] )\n",
    "\n",
    "rule_block.may_create_rule_and_collect_rule_version(fraud_detector)\n",
    "rule_review.may_create_rule_and_collect_rule_version(fraud_detector)\n",
    "rule_friction.may_create_rule_and_collect_rule_version(fraud_detector)\n",
    "rule_approve.may_create_rule_and_collect_rule_version(fraud_detector)"
   ]
  },
  {
   "cell_type": "markdown",
   "metadata": {},
   "source": [
    "##### Create Detector Version\n",
    "A detector version defines the specific models and rules that will be run as part of the GetEventPrediction request. You can add any of the rules defined within a detector to the detector version. You can also add any model trained on the evaluated event type.\n",
    "\n",
    "Each detector version has a status of DRAFT, ACTIVE, or INACTIVE. Only one detector version can be in ACTIVE status at a time. During the GetEventPrediction request, Amazon Fraud Detector will use the ACTIVE detector if no DetectorVersion is specified."
   ]
  },
  {
   "cell_type": "code",
   "execution_count": null,
   "metadata": {},
   "outputs": [],
   "source": [
    "def create_detector_version(fraud_detector, detectorId, rule_arr, model_id, model_version_number, ruleExecutionMode = 'FIRST_MATCHED'):\n",
    "    rules = [rule.to_detector_version_output() for rule in rule_arr]\n",
    "    response = fraud_detector.create_detector_version(\n",
    "        detectorId = detectorId,\n",
    "        rules = rules,\n",
    "        modelVersions = [{\n",
    "            'modelId' : model_id,\n",
    "            'modelType': 'ONLINE_FRAUD_INSIGHTS',\n",
    "            'modelVersionNumber' : model_version_number\n",
    "        }],\n",
    "        ruleExecutionMode = ruleExecutionMode\n",
    "    )\n",
    "\n",
    "    return response['detectorVersionId']\n",
    "\n",
    "def update_detector_version_status(fraud_detector, detector_id, detector_version_id, status = 'ACTIVE'):\n",
    "    response = fraud_detector.update_detector_version_status(\n",
    "        detectorId = detector_id,\n",
    "        detectorVersionId = detector_version_id,\n",
    "        status = status\n",
    "    )\n",
    "    return response['ResponseMetadata']['HTTPStatusCode'] == 200"
   ]
  },
  {
   "cell_type": "code",
   "execution_count": null,
   "metadata": {},
   "outputs": [],
   "source": [
    "# create detector version\n",
    "detector_version_id = create_detector_version(\n",
    "    fraud_detector, \n",
    "    DETECTOR_ID, \n",
    "    [rule_block, rule_review, rule_friction, rule_approve],\n",
    "    MODEL_ID,\n",
    "    model_version_number\n",
    ")\n",
    "result = update_detector_version_status(\n",
    "    fraud_detector, \n",
    "    DETECTOR_ID,\n",
    "    detector_version_id\n",
    ")"
   ]
  },
  {
   "cell_type": "markdown",
   "metadata": {},
   "source": [
    "##### Inference\n",
    "-----\n",
    "The following applies the get_event_prediction endpoint to your recrods in your data frame.    \n",
    "\n",
    "<i> Note: this uses the Dask backend to parallelize the prediction calls. </i>\n",
    "\n",
    "<div class=\"alert alert-info\"> 💡 <strong> get_event_prediction </strong>\n",
    "\n",
    "To specify the number of records to score you change the record_count to a specific number (e.g., if you want to just predict on say 100 records). By default it assumes you want to apply predictions to the whole dataset. Once completed convert json to a pandas dataframe, and appends any existing labels, and analyze based on score threshold for a particular false positive rate (FPR).\n",
    "\n",
    "</div>\n",
    "\n",
    "this is all you need to run predictions: \n",
    "\n",
    "```python\n",
    "\n",
    "client.get_event_prediction(detectorId=DETECTOR_NAME, \n",
    "                            detectorVersionId=DETECTOR_VERSION,\n",
    "                            eventId = '222222',\n",
    "                            eventTypeName = EVENT_TYPE,\n",
    "                            eventTimestamp = '2020-07-27 12:01:01', \n",
    "                            entities = [{'entityType': ENTITY_TYPE, 'entityId':'11111'}],\n",
    "                            eventVariables=  record)\n",
    "```\n",
    "\n",
    "Example of what a record would look like: \n",
    "\n",
    "```python\n",
    "record = [{'order_amt': '8036.0',\n",
    "  'ip_address': '192.18.59.93',\n",
    "  'email_address': 'synth_george_hayduke@example.com',\n",
    "  'cc_bin': '42785',\n",
    "  'billing_postal': '17740-2745',\n",
    "  'shipping_postal': '20950-6945',\n",
    "  'customer_name': 'Geroge Hayduke'}]\n",
    "```"
   ]
  },
  {
   "cell_type": "code",
   "execution_count": null,
   "metadata": {},
   "outputs": [],
   "source": [
    "@dask.delayed\n",
    "def _predict(fraud_detector, record, detector_id, detector_version_id, model_id, event_type_name, entity_type_name, event_timestamp):\n",
    "    eventId = uuid.uuid1()\n",
    "    try:\n",
    "        pred = fraud_detector.get_event_prediction(\n",
    "            detectorId = detector_id, \n",
    "            detectorVersionId = detector_version_id,\n",
    "            eventId = str(eventId),\n",
    "            eventTypeName = event_type_name,\n",
    "            eventTimestamp = event_timestamp, \n",
    "            entities = [{'entityType': entity_type_name, 'entityId':str(eventId.int)}],\n",
    "            eventVariables =  record) \n",
    "        \n",
    "        record[\"score\"]   = pred['modelScores'][0]['scores'][\"{0}_insightscore\".format(model_id)]\n",
    "        record[\"outcomes\"]= pred['ruleResults'][0]['outcomes']\n",
    "        return record\n",
    "    \n",
    "    except:\n",
    "        record[\"score\"]   = \"-999\"\n",
    "        record[\"outcomes\"]= \"error\"\n",
    "        return record\n",
    "\n",
    "def do_predictions(fraud_detector, df, detector_id, detector_version_id, model_id, event_type_name, entity_type_name):\n",
    "    start = time.time()\n",
    "    predict_score = []\n",
    "    event_timestamp = datetime.now().strftime(\"%Y-%m-%dT%H:%M:%SZ\")\n",
    "    \n",
    "    predict_data  = df.head(record_count).astype(str).to_dict(orient='records')\n",
    "    i=0\n",
    "    for record in predict_data:\n",
    "        clear_output(wait=True)\n",
    "        rec = dask.delayed(_predict)(fraud_detector, record, detector_id, detector_version_id, model_id, event_type_name, entity_type_name, event_timestamp)\n",
    "        predict_score.append(rec)\n",
    "        i += 1\n",
    "        print(\"current progress: \", round((i/record_count)*100,2), \"%\" )\n",
    "\n",
    "\n",
    "    predict_recs = dask.compute(*predict_score)\n",
    "\n",
    "    # Calculate time taken and print results\n",
    "    time_taken = time.time() - start\n",
    "    tps = len(predict_recs) / time_taken\n",
    "\n",
    "    print ('Process took %0.2f seconds' %time_taken)\n",
    "    print ('Scored %d records' %len(predict_recs))\n",
    "\n",
    "    return predict_recs\n",
    "\n",
    "def plot_predictions(predictions, threshold = 950):\n",
    "    predictions['score_bin'] = pd.cut(predictions['score'], 100 ,labels = list(range(0,1000,10)))\n",
    "    predictions.loc[predictions['score'] >= threshold, 'score_outcome'] = 'predicted fraud'\n",
    "    predictions.loc[predictions['score'] < threshold, 'score_outcome'] = 'predicted legit'\n",
    "    ctab = pd.crosstab(predictions['score_bin'], predictions['score_outcome']).reset_index()\n",
    "\n",
    "    # get y of the score label\n",
    "    score_label_y_index = max( ctab['predicted fraud'].max(), ctab['predicted legit'].max() ) / 2\n",
    "    \n",
    "    # plotting\n",
    "    plt.figure(figsize=(20,10))\n",
    "    plt.bar(ctab['score_bin'], ctab['predicted fraud'], width=7)\n",
    "    plt.bar(ctab['score_bin'], ctab['predicted legit'], width=7)\n",
    "    plt.axvline(x = threshold, ls='--', C='red')\n",
    "    plt.title(\"Sample Data, Score Distribution\")\n",
    "    plt.text( threshold, score_label_y_index, f'score >= {threshold}')\n",
    "    plt.xlabel('Score')\n",
    "    plt.ylabel('Frequency')\n",
    "    plt.show()    "
   ]
  },
  {
   "cell_type": "code",
   "execution_count": null,
   "metadata": {},
   "outputs": [],
   "source": [
    "# Read the evaluation data set\n",
    "df = pd.read_csv(\"./project_1_newaccounts_5k.csv\")\n",
    "df['user_agent'] = df['user_agent'].str.slice(start=0, stop=254)\n",
    "df.head()"
   ]
  },
  {
   "cell_type": "code",
   "execution_count": null,
   "metadata": {},
   "outputs": [],
   "source": [
    "# record_count = df.shape[0] # -- override  to run all records in file \n",
    "record_count = 100\n",
    "predict_recs = do_predictions(\n",
    "    fraud_detector, \n",
    "    df[event_variables], \n",
    "    DETECTOR_ID, \n",
    "    detector_version_id, \n",
    "    MODEL_ID, \n",
    "    EVENT_TYPE_NAME, \n",
    "    ENTITY_TYPE_NAME)\n",
    "predictions = pd.DataFrame.from_dict(predict_recs, orient='columns')\n",
    "predictions.head()"
   ]
  },
  {
   "cell_type": "code",
   "execution_count": null,
   "metadata": {},
   "outputs": [],
   "source": [
    "plot_predictions(predictions, 950)"
   ]
  },
  {
   "cell_type": "markdown",
   "metadata": {},
   "source": [
    "##### Use different threshold\n",
    "\n",
    "Let's try to do threshold = 975 and plot the predictions"
   ]
  },
  {
   "cell_type": "code",
   "execution_count": null,
   "metadata": {},
   "outputs": [],
   "source": [
    "THRESHOLD = 975\n",
    "\n",
    "# Update rules with new threshold\n",
    "rule_block = Rule(RULE_ID_BLOCK, DETECTOR_ID, f\"${MODEL_ID}_insightscore >= {THRESHOLD}\", [ OUTCOME_BLOCK ] )\n",
    "rule_block.may_create_rule_and_collect_rule_version(fraud_detector)\n",
    "\n",
    "rule_review = Rule(RULE_ID_REVIEW, DETECTOR_ID, f\"${MODEL_ID}_insightscore >= 855 and ${MODEL_ID}_insightscore < {THRESHOLD}\", [ OUTCOME_REVIEW ] )\n",
    "rule_review.may_create_rule_and_collect_rule_version(fraud_detector)\n",
    "\n",
    "detector_version_id = create_detector_version(\n",
    "    fraud_detector, \n",
    "    DETECTOR_ID, \n",
    "    [rule_block, rule_review, rule_friction, rule_approve],\n",
    "    MODEL_ID,\n",
    "    model_version_number\n",
    ")\n",
    "result = update_detector_version_status(\n",
    "    fraud_detector, \n",
    "    DETECTOR_ID,\n",
    "    detector_version_id\n",
    ")"
   ]
  },
  {
   "cell_type": "code",
   "execution_count": null,
   "metadata": {},
   "outputs": [],
   "source": [
    "# record_count = df.shape[0] # -- override  to run all records in file \n",
    "record_count = 100\n",
    "predict_recs = do_predictions(\n",
    "    fraud_detector, \n",
    "    df[event_variables], \n",
    "    DETECTOR_ID, \n",
    "    detector_version_id, \n",
    "    MODEL_ID, \n",
    "    EVENT_TYPE_NAME, \n",
    "    ENTITY_TYPE_NAME)\n",
    "predictions = pd.DataFrame.from_dict(predict_recs, orient='columns')\n",
    "predictions.head()"
   ]
  },
  {
   "cell_type": "code",
   "execution_count": null,
   "metadata": {},
   "outputs": [],
   "source": [
    "plot_predictions(predictions, THRESHOLD)"
   ]
  },
  {
   "cell_type": "markdown",
   "metadata": {},
   "source": [
    "##### Delete resources"
   ]
  },
  {
   "cell_type": "code",
   "execution_count": null,
   "metadata": {},
   "outputs": [],
   "source": [
    "# delete detector versions, rules and detector\n",
    "response = fraud_detector.describe_detector(detectorId = DETECTOR_ID)\n",
    "for detector_summary in response['detectorVersionSummaries']:\n",
    "    if detector_summary['status'] == 'ACTIVE':\n",
    "        update_detector_version_status(\n",
    "            fraud_detector, \n",
    "            DETECTOR_ID,\n",
    "            detector_summary['detectorVersionId'],\n",
    "            'INACTIVE'\n",
    "        )\n",
    "    result = fraud_detector.delete_detector_version(\n",
    "        detectorId = DETECTOR_ID,\n",
    "        detectorVersionId = detector_summary['detectorVersionId']\n",
    "    )\n",
    "\n",
    "result = fraud_detector.get_rules( detectorId = DETECTOR_ID )\n",
    "for rule in result['ruleDetails']:\n",
    "    response = fraud_detector.delete_rule(\n",
    "        rule={\n",
    "            'detectorId': rule['detectorId'],\n",
    "            'ruleId': rule['ruleId'],\n",
    "            'ruleVersion': rule['ruleVersion']\n",
    "        }\n",
    "    )\n",
    "    \n",
    "fraud_detector.delete_detector(detectorId = DETECTOR_ID)    "
   ]
  },
  {
   "cell_type": "code",
   "execution_count": null,
   "metadata": {},
   "outputs": [],
   "source": [
    "# undeploy activate model version (model version and model can't be deleted)\n",
    "active_model_version = get_active_model_version(MODEL_ID)\n",
    "if active_model_version:\n",
    "    fraud_detector.update_model_version_status (\n",
    "        modelId = active_model_version['modelId'],\n",
    "        modelType = 'ONLINE_FRAUD_INSIGHTS',\n",
    "        modelVersionNumber = active_model_version['modelVersionNumber'],\n",
    "        status = 'INACTIVE'\n",
    "    )"
   ]
  },
  {
   "cell_type": "code",
   "execution_count": null,
   "metadata": {},
   "outputs": [],
   "source": []
  }
 ],
 "metadata": {
  "kernelspec": {
   "display_name": "conda_python3",
   "language": "python",
   "name": "conda_python3"
  },
  "language_info": {
   "codemirror_mode": {
    "name": "ipython",
    "version": 3
   },
   "file_extension": ".py",
   "mimetype": "text/x-python",
   "name": "python",
   "nbconvert_exporter": "python",
   "pygments_lexer": "ipython3",
   "version": "3.6.10"
  }
 },
 "nbformat": 4,
 "nbformat_minor": 4
}
