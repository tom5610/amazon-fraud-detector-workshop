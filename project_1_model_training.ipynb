{
 "cells": [
  {
   "cell_type": "markdown",
   "metadata": {},
   "source": [
    "# Fraud Detector - Model Training and Detector Creation\n",
    "\n",
    "---\n",
    "\n",
    "## Setup\n",
    "\n",
    "Create S3 bucket and upload related training data for model training.\n",
    "\n",
    "## Implementation\n",
    "\n",
    "Create the resoures, model and detector with boto3 python SDK\n",
    "\n",
    "The the data set is [project_1_data](./project_1_newaccounts_100k.csv)."
   ]
  },
  {
   "cell_type": "markdown",
   "metadata": {},
   "source": [
    "#### Environment Setup"
   ]
  },
  {
   "cell_type": "code",
   "execution_count": null,
   "metadata": {},
   "outputs": [],
   "source": [
    "!pip install -U pip\n",
    "!pip install boto3"
   ]
  },
  {
   "cell_type": "code",
   "execution_count": null,
   "metadata": {},
   "outputs": [],
   "source": [
    "!pip show boto3"
   ]
  },
  {
   "cell_type": "code",
   "execution_count": null,
   "metadata": {},
   "outputs": [],
   "source": [
    "# Setup proper Role and copy Role ARN in below\n",
    "DATA_ACCESS_ROLE_ARN = \"\""
   ]
  },
  {
   "cell_type": "markdown",
   "metadata": {},
   "source": [
    "### S3 bucket setup"
   ]
  },
  {
   "cell_type": "code",
   "execution_count": null,
   "metadata": {},
   "outputs": [],
   "source": [
    "import boto3\n",
    "from datetime import datetime\n",
    "import time"
   ]
  },
  {
   "cell_type": "code",
   "execution_count": null,
   "metadata": {},
   "outputs": [],
   "source": [
    "session = boto3.Session()\n",
    "region = session.region_name\n",
    "account_id = session.client('sts').get_caller_identity().get('Account')\n",
    "bucket_name = f\"{account_id}-fraud-detector-lab-{region}\"\n",
    "s3 = boto3.client('s3')\n",
    "try:\n",
    "    if (\"us-east-1\" == region):\n",
    "        s3.create_bucket(Bucket=bucket_name)\n",
    "    else:\n",
    "        s3.create_bucket(Bucket=bucket_name, CreateBucketConfiguration={\n",
    "            'LocationConstraint': region})\n",
    "except:\n",
    "    pass\n"
   ]
  },
  {
   "cell_type": "code",
   "execution_count": null,
   "metadata": {},
   "outputs": [],
   "source": [
    "# Upload data file into S3 bucket\n",
    "s3.upload_file('./project_1_newaccounts_100k.csv', bucket_name, 'project_1_newaccounts_100k.csv')\n",
    "s3.upload_file('./project_1_newaccounts_5k.csv', bucket_name, 'project_1_newaccounts_5k.csv')"
   ]
  },
  {
   "cell_type": "code",
   "execution_count": null,
   "metadata": {},
   "outputs": [],
   "source": [
    "train_data_uri = f\"s3://{bucket_name}/project_1_newaccounts_100k.csv\"\n",
    "train_data_uri"
   ]
  },
  {
   "cell_type": "code",
   "execution_count": null,
   "metadata": {},
   "outputs": [],
   "source": [
    "evaluation_data_uri = f\"s3://{bucket_name}/project_1_newaccounts_5k.csv\"\n",
    "evaluation_data_file = \"project_1_newaccounts_5k.csv\""
   ]
  },
  {
   "cell_type": "markdown",
   "metadata": {},
   "source": [
    "### Create Fraud Detector Resources (Variable, label, event and event type)"
   ]
  },
  {
   "cell_type": "code",
   "execution_count": null,
   "metadata": {},
   "outputs": [],
   "source": [
    "# -- fraud detector client --\n",
    "fraud_detector = boto3.client('frauddetector',)\n",
    "\n",
    "# -- use this to append to files \n",
    "suffix   = datetime.now().strftime(\"%Y%m%d\")"
   ]
  },
  {
   "cell_type": "markdown",
   "metadata": {},
   "source": [
    "#### Labels Creation\n",
    "A label classifies an event as fraudulent or legitimate. Once you have created a label, add the label to the event type by calling the PutEventType API."
   ]
  },
  {
   "cell_type": "code",
   "execution_count": null,
   "metadata": {},
   "outputs": [],
   "source": [
    "response = fraud_detector.get_labels()\n",
    "existing_label_names = [label['name'] for label in response['labels']]\n",
    "\n",
    "# setup fraudulent and legitimate labels\n",
    "LABEL_FRAUD = '1'\n",
    "LABEL_LEGIT = '0'\n",
    "\n",
    "if LABEL_FRAUD not in existing_label_names:\n",
    "    fraud_detector.put_label(\n",
    "        name = LABEL_FRAUD,\n",
    "        description = 'label for fraud events'\n",
    "    )\n",
    "\n",
    "if LABEL_LEGIT not in existing_label_names:\n",
    "    fraud_detector.put_label(\n",
    "        name = LABEL_LEGIT,\n",
    "        description = 'label for legit events'\n",
    "    )\n"
   ]
  },
  {
   "cell_type": "code",
   "execution_count": null,
   "metadata": {},
   "outputs": [],
   "source": [
    "# all the labels\n",
    "response = fraud_detector.get_labels()\n",
    "response"
   ]
  },
  {
   "cell_type": "markdown",
   "metadata": {},
   "source": [
    "#### Variables creation\n",
    "Variables represent data elements that you want to use in a fraud prediction, such as data from the event that is being evaluated or risk score outputs from Amazon Fraud Detector models or Amazon SageMaker models.\n",
    "\n"
   ]
  },
  {
   "cell_type": "code",
   "execution_count": null,
   "metadata": {},
   "outputs": [],
   "source": [
    "response = fraud_detector.get_variables()\n",
    "response"
   ]
  },
  {
   "cell_type": "code",
   "execution_count": null,
   "metadata": {},
   "outputs": [],
   "source": [
    "existing_variable_names = [variable['name'] for variable in response['variables']]\n",
    "existing_variable_names"
   ]
  },
  {
   "cell_type": "code",
   "execution_count": null,
   "metadata": {},
   "outputs": [],
   "source": [
    "# Variable names\n",
    "VARIABLE_IP_ADDRESS = 'ip_address'\n",
    "VARIABLE_EMAIL_ADDRESS = 'email_address'\n",
    "VARIABLE_PHONE_NUMBER = 'phone_number'\n",
    "VARIABLE_USER_AGENT = 'user_agent'\n",
    "VARIABLE_CUSTOMER_STATE = 'customer_state'\n",
    "VARIABLE_CUSTOMER_POSTAL = 'customer_postal'\n",
    "VARIABLE_CUSTOMER_ADDRESS = 'customer_address'\n",
    "VARIABLE_CUSTOMER_CITY = 'customer_city'\n",
    "\n",
    "#Create variable ip_address\n",
    "if VARIABLE_IP_ADDRESS not in existing_variable_names:\n",
    "    fraud_detector.create_variable(\n",
    "        name = VARIABLE_IP_ADDRESS,\n",
    "        variableType = 'IP_ADDRESS',\n",
    "        dataType = 'STRING',\n",
    "        dataSource = 'EVENT'\n",
    "    )\n",
    "    \n",
    "#Create variable email_address\n",
    "if VARIABLE_EMAIL_ADDRESS not in existing_variable_names:\n",
    "    fraud_detector.create_variable(\n",
    "        name = VARIABLE_EMAIL_ADDRESS,\n",
    "        variableType = 'EMAIL_ADDRESS',\n",
    "        dataType = 'STRING',\n",
    "        dataSource = 'EVENT'\n",
    "    )\n",
    "    \n",
    "#Create variable phone_number\n",
    "if VARIABLE_PHONE_NUMBER not in existing_variable_names:\n",
    "    fraud_detector.create_variable(\n",
    "        name = VARIABLE_PHONE_NUMBER,\n",
    "        variableType = 'PHONE_NUMBER',\n",
    "        dataType = 'STRING',\n",
    "        dataSource = 'EVENT'\n",
    "    )    \n",
    "    \n",
    "#Create variable user_agent\n",
    "if VARIABLE_USER_AGENT not in existing_variable_names:\n",
    "    fraud_detector.create_variable(\n",
    "        name = VARIABLE_USER_AGENT,\n",
    "        variableType = 'USERAGENT',\n",
    "        dataType = 'STRING',\n",
    "        dataSource = 'EVENT'\n",
    "    )\n",
    "    \n",
    "#Create variable customer_state\n",
    "if VARIABLE_CUSTOMER_STATE not in existing_variable_names:\n",
    "    fraud_detector.create_variable(\n",
    "        name = VARIABLE_CUSTOMER_STATE,\n",
    "        variableType = 'BILLING_STATE',\n",
    "        dataType = 'STRING',\n",
    "        dataSource = 'EVENT'\n",
    "    )    \n",
    "    \n",
    "#Create variable customer_postal\n",
    "if VARIABLE_CUSTOMER_POSTAL not in existing_variable_names:\n",
    "    fraud_detector.create_variable(\n",
    "        name = VARIABLE_CUSTOMER_POSTAL,\n",
    "        variableType = 'BILLING_ZIP',\n",
    "        dataType = 'STRING',\n",
    "        dataSource = 'EVENT'\n",
    "    )    \n",
    "    \n",
    "#Create variable customer_address\n",
    "if VARIABLE_CUSTOMER_ADDRESS not in existing_variable_names:\n",
    "    fraud_detector.create_variable(\n",
    "        name = VARIABLE_CUSTOMER_ADDRESS,\n",
    "        variableType = 'SHIPPING_ADDRESS_L1',\n",
    "        dataType = 'STRING',\n",
    "        dataSource = 'EVENT'\n",
    "    )   \n",
    "    \n",
    "#Create variable customer_city\n",
    "if VARIABLE_CUSTOMER_CITY not in existing_variable_names:\n",
    "    fraud_detector.create_variable(\n",
    "        name = VARIABLE_CUSTOMER_CITY,\n",
    "        variableType = 'BILLING_CITY',\n",
    "        dataType = 'STRING',\n",
    "        dataSource = 'EVENT'\n",
    "    )    "
   ]
  },
  {
   "cell_type": "markdown",
   "metadata": {},
   "source": [
    "#### Entity type\n",
    "\n",
    "An entity represents who is performing the event. As part of a fraud prediction, you can pass the entity ID to indicate the specific entity who performed the event.\n",
    "\n",
    "An entity type classifies the entity. Example classifications include customer, merchant, or account."
   ]
  },
  {
   "cell_type": "code",
   "execution_count": null,
   "metadata": {},
   "outputs": [],
   "source": [
    "response = fraud_detector.get_entity_types()\n",
    "response"
   ]
  },
  {
   "cell_type": "code",
   "execution_count": null,
   "metadata": {},
   "outputs": [],
   "source": [
    "existing_entity_type_names = [entity_type['name'] for entity_type in response['entityTypes']]\n",
    "existing_entity_type_names"
   ]
  },
  {
   "cell_type": "code",
   "execution_count": null,
   "metadata": {},
   "outputs": [],
   "source": [
    "ENTITY_TYPE_NAME = \"account\"\n",
    "\n",
    "if ENTITY_TYPE_NAME not in existing_entity_type_names:\n",
    "    fraud_detector.put_entity_type(\n",
    "        name = ENTITY_TYPE_NAME,\n",
    "        description = 'Sample account entity type'\n",
    "    )\n"
   ]
  },
  {
   "cell_type": "markdown",
   "metadata": {},
   "source": [
    "#### Event Type\n",
    "\n",
    "With Amazon Fraud Detector, you generate fraud predictions for events. An event type defines the structure for an individual event sent to Amazon Fraud Detector. Once defined, you can build models and detectors that evaluate the risk for specific event types."
   ]
  },
  {
   "cell_type": "code",
   "execution_count": null,
   "metadata": {},
   "outputs": [],
   "source": [
    "response = fraud_detector.get_event_types()\n",
    "response"
   ]
  },
  {
   "cell_type": "code",
   "execution_count": null,
   "metadata": {},
   "outputs": [],
   "source": [
    "existing_event_type_names = [event_type['name'] for event_type in response['eventTypes']]\n",
    "existing_event_type_names"
   ]
  },
  {
   "cell_type": "code",
   "execution_count": null,
   "metadata": {},
   "outputs": [],
   "source": [
    "# Create Event Type\n",
    "EVENT_TYPE_NAME = \"my_new_account_registration\"\n",
    "if EVENT_TYPE_NAME not in existing_event_type_names:\n",
    "    fraud_detector.put_event_type (\n",
    "        name = EVENT_TYPE_NAME,\n",
    "        description='Sample event type',\n",
    "        eventVariables = [\n",
    "            VARIABLE_IP_ADDRESS,\n",
    "            VARIABLE_EMAIL_ADDRESS,\n",
    "            VARIABLE_PHONE_NUMBER,\n",
    "            VARIABLE_USER_AGENT,\n",
    "            VARIABLE_CUSTOMER_STATE,\n",
    "            VARIABLE_CUSTOMER_POSTAL,\n",
    "            VARIABLE_CUSTOMER_ADDRESS,\n",
    "            VARIABLE_CUSTOMER_CITY\n",
    "        ],\n",
    "        labels = [\n",
    "            LABEL_LEGIT, \n",
    "            LABEL_FRAUD\n",
    "        ],\n",
    "        entityTypes = [ \n",
    "            ENTITY_TYPE_NAME \n",
    "        ]\n",
    "    )"
   ]
  },
  {
   "cell_type": "markdown",
   "metadata": {},
   "source": [
    "#### Model\n",
    "A model version is the term Amazon Fraud Detector uses for a trained fraud detection machine learning model. All steps in the model training process are fully automated including data validation, data transformation, feature engineering, algorithm selection, training, and model optimization. Creating a model requires selecting the model type and specifying the model version configuration. The model type specifies the algorithms and transformations used to build the model."
   ]
  },
  {
   "cell_type": "code",
   "execution_count": null,
   "metadata": {},
   "outputs": [],
   "source": [
    "response = fraud_detector.get_models()\n",
    "response"
   ]
  },
  {
   "cell_type": "code",
   "execution_count": null,
   "metadata": {},
   "outputs": [],
   "source": [
    "existing_model_ids = [ model['modelId'] for model in response['models'] ]\n",
    "existing_model_ids"
   ]
  },
  {
   "cell_type": "code",
   "execution_count": null,
   "metadata": {},
   "outputs": [],
   "source": [
    "# Create model (which is a container for model version)\n",
    "MODEL_ID = \"sample_project_x\"\n",
    "if MODEL_ID not in existing_model_ids:\n",
    "    fraud_detector.create_model (\n",
    "        modelId = MODEL_ID,\n",
    "        eventTypeName = EVENT_TYPE_NAME,\n",
    "        modelType = 'ONLINE_FRAUD_INSIGHTS'\n",
    "    )"
   ]
  },
  {
   "cell_type": "code",
   "execution_count": null,
   "metadata": {},
   "outputs": [],
   "source": [
    "# Create model version, which start the model training; \n",
    "# PLEASE DON'T RUN IT MULTIPLE TIMES UNLESS IT'S NECESSARY!\n",
    "# model version creation (model training) takes approx. 50-60mins with existing sample data - the 100k one.\n",
    "response = fraud_detector.create_model_version (\n",
    "    modelId = MODEL_ID,\n",
    "    modelType = 'ONLINE_FRAUD_INSIGHTS',\n",
    "    trainingDataSource = 'EXTERNAL_EVENTS',\n",
    "    trainingDataSchema = {\n",
    "        'modelVariables' : [\n",
    "            VARIABLE_IP_ADDRESS,\n",
    "            VARIABLE_EMAIL_ADDRESS,\n",
    "            VARIABLE_PHONE_NUMBER,\n",
    "            VARIABLE_USER_AGENT,\n",
    "            VARIABLE_CUSTOMER_STATE,\n",
    "            VARIABLE_CUSTOMER_POSTAL,\n",
    "            VARIABLE_CUSTOMER_CITY\n",
    "        ],\n",
    "        'labelSchema' : {\n",
    "            'labelMapper' : {\n",
    "                'FRAUD' : [ LABEL_FRAUD ],\n",
    "                'LEGIT' : [ LABEL_LEGIT ]\n",
    "            }\n",
    "        }\n",
    "    }, \n",
    "    externalEventsDetail = {\n",
    "        'dataLocation' : train_data_uri,\n",
    "        'dataAccessRoleArn' : DATA_ACCESS_ROLE_ARN\n",
    "    }\n",
    ")\n",
    "modelVersionNumber = response['modelVersionNumber']"
   ]
  },
  {
   "cell_type": "code",
   "execution_count": null,
   "metadata": {},
   "outputs": [],
   "source": [
    "def check_model_version_status(status = 'TRAINING_COMPLETE'):\n",
    "    print(f\"to check model version status till [{status}]\")\n",
    "    while True:\n",
    "        response = fraud_detector.get_model_version(\n",
    "            modelId = MODEL_ID,\n",
    "            modelType = 'ONLINE_FRAUD_INSIGHTS',\n",
    "            modelVersionNumber = modelVersionNumber\n",
    "        )\n",
    "        print(f\"Model version {MODEL_ID}:{modelVersionNumber} status check: {response['status']}\")\n",
    "        if status == response['status']:\n",
    "            break\n",
    "        else:\n",
    "            time.sleep(60)    "
   ]
  },
  {
   "cell_type": "code",
   "execution_count": null,
   "metadata": {},
   "outputs": [],
   "source": [
    "%%time\n",
    "\n",
    "# checking model version training progress\n",
    "check_model_version_status()"
   ]
  },
  {
   "cell_type": "code",
   "execution_count": null,
   "metadata": {},
   "outputs": [],
   "source": [
    "# activate/deploy model version\n",
    "fraud_detector.update_model_version_status (\n",
    "    modelId = MODEL_ID,\n",
    "    modelType = 'ONLINE_FRAUD_INSIGHTS',\n",
    "    modelVersionNumber = modelVersionNumber,\n",
    "    status = 'ACTIVE'\n",
    ")"
   ]
  },
  {
   "cell_type": "code",
   "execution_count": null,
   "metadata": {},
   "outputs": [],
   "source": [
    "%%time\n",
    "\n",
    "check_model_version_status('ACTIVE')"
   ]
  },
  {
   "cell_type": "markdown",
   "metadata": {},
   "source": [
    "#### Detector \n",
    "A detector contains the detection logic, such as the models and rules, for a particular event that you want to evaluate for fraud. Each detector can evaluate one event type.\n",
    "\n",
    "A detector can have multiple versions, with each version having a status of DRAFT, ACTIVE, or INACTIVE. Only one detector version can be in ACTIVE status at a time."
   ]
  },
  {
   "cell_type": "code",
   "execution_count": null,
   "metadata": {},
   "outputs": [],
   "source": [
    "response = fraud_detector.get_detectors()\n",
    "response"
   ]
  },
  {
   "cell_type": "code",
   "execution_count": null,
   "metadata": {},
   "outputs": [],
   "source": [
    "existing_detector_ids = [detector['detectorId'] for detector in response['detectors']]\n",
    "existing_detector_ids"
   ]
  },
  {
   "cell_type": "code",
   "execution_count": null,
   "metadata": {},
   "outputs": [],
   "source": [
    "DETECTOR_ID = \"my_new_account_fraud_detector\"\n",
    "if DETECTOR_ID not in existing_detector_ids:\n",
    "    fraudDetector.put_detector (\n",
    "        detectorId = DETECTOR_ID,\n",
    "        eventTypeName = EVENT_TYPE_NAME\n",
    "    )"
   ]
  },
  {
   "cell_type": "markdown",
   "metadata": {},
   "source": [
    "##### Create Outcome\n",
    "An outcome is the result of a fraud prediction. Create an outcome for each possible fraud prediction result. For example, you may want outcomes to represent risk levels (high_risk, medium_risk, and low_risk) or actions (approve, review). Once created, you can add one or more outcomes to a rule. As part of the GetEventPrediction response, Amazon Fraud Detector will return the defined outcomes for any matched rule."
   ]
  },
  {
   "cell_type": "code",
   "execution_count": null,
   "metadata": {},
   "outputs": [],
   "source": [
    "response = fraud_detector.get_outcomes()\n",
    "response"
   ]
  },
  {
   "cell_type": "code",
   "execution_count": null,
   "metadata": {},
   "outputs": [],
   "source": [
    "existing_outcome_names = [ outcome['name'] for outcome in response['outcomes'] ]\n",
    "existing_outcome_names"
   ]
  },
  {
   "cell_type": "code",
   "execution_count": null,
   "metadata": {},
   "outputs": [],
   "source": [
    "OUTCOME_BLOCK = 'block'\n",
    "OUTCOME_REVIEW = 'review'\n",
    "OUTCOME_FRICTION = 'friction'\n",
    "OUTCOME_APPROVE = 'approve'\n",
    "\n",
    "if OUTCOME_BLOCK not in existing_outcome_names:\n",
    "    fraud_detector.put_outcome(\n",
    "        name = OUTCOME_BLOCK,\n",
    "        description = 'this outcome blocks the event'\n",
    "    )\n",
    "\n",
    "if OUTCOME_REVIEW not in existing_outcome_names:\n",
    "    fraud_detector.put_outcome(\n",
    "        name = OUTCOME_REVIEW,\n",
    "        description = 'this outcome sidelines event for review'\n",
    "    )\n",
    "\n",
    "if OUTCOME_FRICTION not in existing_outcome_names:\n",
    "    fraud_detector.put_outcome(\n",
    "        name = OUTCOME_FRICTION,\n",
    "        description = 'this outcome frictions the event'\n",
    "    )\n",
    "\n",
    "if OUTCOME_APPROVE not in existing_outcome_names:\n",
    "    fraud_detector.put_outcome(\n",
    "        name = OUTCOME_APPROVE,\n",
    "        description = 'this outcome approves the event'\n",
    "    )"
   ]
  },
  {
   "cell_type": "markdown",
   "metadata": {},
   "source": [
    "##### Create Rules\n",
    "A rule is a condition that tells Amazon Fraud Detector how to interpret variable values during a fraud prediction. A rule consists of one or more variables, a logic expression, and one or more outcomes. A detector must have at least one associated rule. Rules in a detector are evaluated as part of a fraud prediction."
   ]
  },
  {
   "cell_type": "code",
   "execution_count": null,
   "metadata": {},
   "outputs": [],
   "source": [
    "response = fraud_detector.get_rules(detectorId = DETECTOR_ID)\n",
    "response"
   ]
  },
  {
   "cell_type": "code",
   "execution_count": null,
   "metadata": {},
   "outputs": [],
   "source": [
    "existing_rule_names = [ rule['name'] for rule in response['ruleDetails'] ]\n",
    "existing_rule_names"
   ]
  },
  {
   "cell_type": "code",
   "execution_count": null,
   "metadata": {},
   "outputs": [],
   "source": [
    "RULE_ID_BLOCK = 'rule_block'\n",
    "RULE_ID_REVIEW = 'rule_review'\n",
    "RULE_ID_FRICTION = 'rule_friction'\n",
    "RULE_ID_APPROVE = 'rule_approve'\n",
    "\n",
    "# model insightscore expression is base on \"{model_name}_insightscore\"\n",
    "\n",
    "if RULE_ID_BLOCK not in existing_rule_names:\n",
    "    fraud_detector.create_rule(\n",
    "        ruleId = RULE_ID_BLOCK,\n",
    "        detectorId = DETECTOR_ID,\n",
    "        expression = f\"${MODEL_ID}_insightscore >= 950\",\n",
    "        language = 'DETECTORPL',\n",
    "        outcomes = [ OUTCOME_BLOCK ]\n",
    "    )\n",
    "\n",
    "if RULE_ID_REVIEW not in existing_rule_names:\n",
    "    fraud_detector.create_rule(\n",
    "        ruleId = RULE_ID_REVIEW,\n",
    "        detectorId = DETECTOR_ID,\n",
    "        expression = f\"${MODEL_ID}_insightscore >= 855 and ${MODEL_ID}_insightscore < 950\",\n",
    "        language = 'DETECTORPL',\n",
    "        outcomes = [ OUTCOME_REVIEW ]\n",
    "    )\n",
    "\n",
    "if RULE_ID_FRICTION not in existing_rule_names:\n",
    "    fraud_detector.create_rule(\n",
    "        ruleId = RULE_ID_FRICTION,\n",
    "        detectorId = DETECTOR_ID,\n",
    "        expression = f\"${MODEL_ID}_insightscore >= 600 and ${MODEL_ID}_insightscore < 855\",\n",
    "        language = 'DETECTORPL',\n",
    "        outcomes = [ OUTCOME_FRICTION ]\n",
    "    )\n",
    "    \n",
    "if RULE_ID_APPROVE not in existing_rule_names:\n",
    "    fraud_detector.create_rule(\n",
    "        ruleId = RULE_ID_APPROVE,\n",
    "        detectorId = DETECTOR_ID,\n",
    "        expression = f\"${MODEL_ID}_insightscore < 600\",\n",
    "        language = 'DETECTORPL',\n",
    "        outcomes = [ OUTCOME_APPROVE ]\n",
    "    )"
   ]
  },
  {
   "cell_type": "markdown",
   "metadata": {},
   "source": [
    "##### Create Detector Version\n",
    "A detector version defines the specific models and rules that will be run as part of the GetEventPrediction request. You can add any of the rules defined within a detector to the detector version. You can also add any model trained on the evaluated event type.\n",
    "\n",
    "Each detector version has a status of DRAFT, ACTIVE, or INACTIVE. Only one detector version can be in ACTIVE status at a time. During the GetEventPrediction request, Amazon Fraud Detector will use the ACTIVE detector if no DetectorVersion is specified."
   ]
  },
  {
   "cell_type": "code",
   "execution_count": null,
   "metadata": {},
   "outputs": [],
   "source": [
    "# use the default rule version\n",
    "ruleVersion = '1'\n",
    "\n",
    "# FIRST MATCHED by default \n",
    "ruleExecutionMode = 'FIRST_MATCHED'\n",
    "\n",
    "response = fraud_detector.create_detector_version(\n",
    "    detectorId = DETECTOR_ID,\n",
    "    rules = [\n",
    "        {\n",
    "            'detectorId' : DETECTOR_ID,\n",
    "            'ruleId' : RULE_ID_BLOCK,\n",
    "            'ruleVersion' : ruleVersion\n",
    "        },\n",
    "        {\n",
    "            'detectorId' : DETECTOR_ID,\n",
    "            'ruleId' : RULE_ID_REVIEW,\n",
    "            'ruleVersion' : ruleVersion\n",
    "        },\n",
    "        {\n",
    "            'detectorId' : DETECTOR_ID,\n",
    "            'ruleId' : RULE_ID_FRICTION,\n",
    "            'ruleVersion' : ruleVersion\n",
    "        },\n",
    "        {\n",
    "            'detectorId' : DETECTOR_ID,\n",
    "            'ruleId' : RULE_ID_APPROVE,\n",
    "            'ruleVersion' : ruleVersion\n",
    "        },\n",
    "    ],\n",
    "    modelVersions = [{\n",
    "        'modelId' : MODEL_ID,\n",
    "        'modelType': 'ONLINE_FRAUD_INSIGHTS',\n",
    "        'modelVersionNumber' : modelVersionNumber\n",
    "    }],\n",
    "    ruleExecutionMode = ruleExecutionMode\n",
    ")\n",
    "\n",
    "detectorVersionId = response['detectorVersionId']"
   ]
  },
  {
   "cell_type": "code",
   "execution_count": null,
   "metadata": {},
   "outputs": [],
   "source": [
    "# activate fraud detector version\n",
    "fraud_detector.update_detector_version_status(\n",
    "    detectorId = DETECTOR_ID,\n",
    "    detectorVersionId = detectorVersionId,\n",
    "    status = 'ACTIVE'\n",
    ")"
   ]
  },
  {
   "cell_type": "markdown",
   "metadata": {},
   "source": [
    "#### Store variable for prediction notebook's reference"
   ]
  },
  {
   "cell_type": "code",
   "execution_count": null,
   "metadata": {},
   "outputs": [],
   "source": [
    "%store ENTITY_TYPE_NAME EVENT_TYPE_NAME \n",
    "%store DETECTOR_ID detectorVersionId \n",
    "%store MODEL_ID modelVersionNumber\n",
    "%store bucket_name evaluation_data_uri evaluation_data_file"
   ]
  },
  {
   "cell_type": "code",
   "execution_count": null,
   "metadata": {},
   "outputs": [],
   "source": [
    "for var in [ENTITY_TYPE_NAME, EVENT_TYPE_NAME, DETECTOR_ID, detectorVersionId, MODEL_ID, modelVersionNumber, bucket_name, evaluation_data_uri, evaluation_data_file]:\n",
    "    print(var)"
   ]
  },
  {
   "cell_type": "markdown",
   "metadata": {},
   "source": [
    "##### Variables to be stored\n",
    "account\n",
    "my_new_account_registration\n",
    "my_new_account_fraud_detector\n",
    "1\n",
    "sample_project_x\n",
    "1.0\n",
    "593380422482-fraud-detector-lab-ap-southeast-2\n",
    "s3://593380422482-fraud-detector-lab-ap-southeast-2/project_1_newaccounts_5k.csv\n",
    "project_1_newaccounts_5k.csv"
   ]
  },
  {
   "cell_type": "code",
   "execution_count": null,
   "metadata": {},
   "outputs": [],
   "source": []
  }
 ],
 "metadata": {
  "kernelspec": {
   "display_name": "conda_python3",
   "language": "python",
   "name": "conda_python3"
  },
  "language_info": {
   "codemirror_mode": {
    "name": "ipython",
    "version": 3
   },
   "file_extension": ".py",
   "mimetype": "text/x-python",
   "name": "python",
   "nbconvert_exporter": "python",
   "pygments_lexer": "ipython3",
   "version": "3.6.10"
  }
 },
 "nbformat": 4,
 "nbformat_minor": 4
}
